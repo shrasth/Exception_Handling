{
 "cells": [
  {
   "cell_type": "markdown",
   "id": "58a74789-06f2-4a18-a33c-6a73cbc42291",
   "metadata": {},
   "source": [
    "**Q1. What is an Exception in python? Write the difference between Exceptions and Syntax errors**"
   ]
  },
  {
   "cell_type": "markdown",
   "id": "c2e513ce-5825-4033-9a54-dd90d5189697",
   "metadata": {},
   "source": [
    "An exception is an event that occurs during the execution of a program, which disrupts the normal flow of the program's instructions. Exceptions are a way to handle runtime errors, unexpected behaviors, or exceptional conditions that may occur during program execution.\n",
    "\n",
    "Difference between Syntax Errors and Exceptions:\n",
    "\n",
    "1. Syntax errors occur when the Python interpreter encounters invalid syntax in the program code whereas  occur during the execution of a program when an exceptional situation or error occurs. \n",
    "2. In syntax error, these errors are typically caused by mistakes in the program's structure, such as misspelled keywords, missing colons, mismatched parentheses, or improper indentation. While in Exception, these situations can be due to various reasons, such as invalid input, arithmetic errors, file I/O errors, network errors, or logic errors.\n",
    "\n"
   ]
  },
  {
   "cell_type": "markdown",
   "id": "f39f2cd4-e6e4-45c2-baef-67055d5da5e4",
   "metadata": {},
   "source": []
  },
  {
   "cell_type": "markdown",
   "id": "27a507c9-6424-4c27-ae02-7b3f941ca4fa",
   "metadata": {},
   "source": [
    "**Q2.What happens when an exception is not handled? Explain with an example**"
   ]
  },
  {
   "cell_type": "markdown",
   "id": "d232da43-f4f5-44fc-805a-8c90420e1a66",
   "metadata": {},
   "source": [
    "When an exception is not handled in Python, it leads to an unhandled exception error and prints traceback, causing the program to terminate abruptly. These traceback provides information about the exception and the point in the code where it occurred. This helps in identifying the cause of the error."
   ]
  },
  {
   "cell_type": "code",
   "execution_count": 13,
   "id": "8ff06dca-c376-40e6-8154-916045e9b556",
   "metadata": {},
   "outputs": [
    {
     "ename": "TypeError",
     "evalue": "can only concatenate str (not \"int\") to str",
     "output_type": "error",
     "traceback": [
      "\u001b[0;31m---------------------------------------------------------------------------\u001b[0m",
      "\u001b[0;31mTypeError\u001b[0m                                 Traceback (most recent call last)",
      "Cell \u001b[0;32mIn[13], line 6\u001b[0m\n\u001b[1;32m      3\u001b[0m \u001b[38;5;28;01mdef\u001b[39;00m \u001b[38;5;21msum_add\u001b[39m(a,b):\n\u001b[1;32m      4\u001b[0m     \u001b[38;5;28;01mreturn\u001b[39;00m a\u001b[38;5;241m+\u001b[39mb\n\u001b[0;32m----> 6\u001b[0m result \u001b[38;5;241m=\u001b[39m \u001b[43msum_add\u001b[49m\u001b[43m(\u001b[49m\u001b[38;5;124;43m\"\u001b[39;49m\u001b[38;5;124;43mshr\u001b[39;49m\u001b[38;5;124;43m\"\u001b[39;49m\u001b[43m,\u001b[49m\u001b[43m \u001b[49m\u001b[38;5;241;43m10\u001b[39;49m\u001b[43m)\u001b[49m\n\u001b[1;32m      7\u001b[0m result\n",
      "Cell \u001b[0;32mIn[13], line 4\u001b[0m, in \u001b[0;36msum_add\u001b[0;34m(a, b)\u001b[0m\n\u001b[1;32m      3\u001b[0m \u001b[38;5;28;01mdef\u001b[39;00m \u001b[38;5;21msum_add\u001b[39m(a,b):\n\u001b[0;32m----> 4\u001b[0m     \u001b[38;5;28;01mreturn\u001b[39;00m \u001b[43ma\u001b[49m\u001b[38;5;241;43m+\u001b[39;49m\u001b[43mb\u001b[49m\n",
      "\u001b[0;31mTypeError\u001b[0m: can only concatenate str (not \"int\") to str"
     ]
    }
   ],
   "source": [
    "#Example:\n",
    "\n",
    "def sum_add(a,b):\n",
    "    return a+b\n",
    "\n",
    "result = sum_add(\"shr\", 10)\n",
    "result"
   ]
  },
  {
   "cell_type": "code",
   "execution_count": null,
   "id": "6dfaa8ee-8331-4589-ae2e-6da2badd78ca",
   "metadata": {},
   "outputs": [],
   "source": []
  },
  {
   "cell_type": "markdown",
   "id": "e61c8d82-7518-479c-ac60-b4dd1be92415",
   "metadata": {},
   "source": [
    "**Q3.Which Python statements are used to, catch and handle exceptions? Explain with an example**"
   ]
  },
  {
   "cell_type": "markdown",
   "id": "2c63c9c3-7550-42c7-a88e-b402be7eccf5",
   "metadata": {},
   "source": [
    "In Python, the try and except statements are used to catch and handle exceptions. The try block is used to enclose the code that may potentially raise an exception, and the except block is used to specify the actions to be taken when a particular exception occurs."
   ]
  },
  {
   "cell_type": "code",
   "execution_count": 11,
   "id": "a65cc9c9-ecbb-48a8-9da1-7a5da0cfa75e",
   "metadata": {},
   "outputs": [
    {
     "name": "stdout",
     "output_type": "stream",
     "text": [
      "can only concatenate str (not \"int\") to str\n"
     ]
    }
   ],
   "source": [
    "#Example:\n",
    "\n",
    "def sum_add(a,b):\n",
    "    try:\n",
    "        result = a+b \n",
    "        print(f\"Result : {result}\")\n",
    "    except TypeError as e:\n",
    "        print(e)\n",
    "\n",
    "result = sum_add(\"shr\", 10)\n",
    "result"
   ]
  },
  {
   "cell_type": "code",
   "execution_count": null,
   "id": "7d3f3bbe-d0a7-4091-90cb-c3d07ddef1a5",
   "metadata": {},
   "outputs": [],
   "source": []
  },
  {
   "cell_type": "markdown",
   "id": "0c50a066-1b72-4287-bd37-0fa6092d72dd",
   "metadata": {},
   "source": [
    "**Q4. Explain with an example:**\n",
    "1. try and else\n",
    "2. finally\n",
    "3. raise"
   ]
  },
  {
   "cell_type": "markdown",
   "id": "14bc2aa7-372b-4fda-a59d-cb477b7e9e3f",
   "metadata": {},
   "source": [
    "**try and else**:\n",
    "\n",
    "The try, except and else statements are used together to handle exceptions and define the code to be excuted when no exception occur."
   ]
  },
  {
   "cell_type": "code",
   "execution_count": 17,
   "id": "cc0e9794-0305-43a2-b051-096a165eef62",
   "metadata": {},
   "outputs": [
    {
     "name": "stdin",
     "output_type": "stream",
     "text": [
      "Enter the numerator:  10\n",
      "Enter the denominator:  0\n"
     ]
    },
    {
     "name": "stdout",
     "output_type": "stream",
     "text": [
      "division by zero\n"
     ]
    }
   ],
   "source": [
    "#Example of try and else statement:\n",
    "\n",
    "try:\n",
    "    num1 = int(input(\"Enter the numerator: \"))\n",
    "    num2 = int(input(\"Enter the denominator: \"))\n",
    "    result = num1 / num2\n",
    "except Exception as e:\n",
    "    print(e)\n",
    "else:\n",
    "    print(f\"Result: {result}\")\n"
   ]
  },
  {
   "cell_type": "markdown",
   "id": "2d758e6d-01bd-4c00-9ca6-b8b91502e2b7",
   "metadata": {},
   "source": [
    "**finally**:\n",
    "\n",
    "The finally block is used to define a code block that is always executed, regardless of whether an exception occurred or not."
   ]
  },
  {
   "cell_type": "code",
   "execution_count": 4,
   "id": "cbf54c49-ea5c-4270-9140-b5812855eedf",
   "metadata": {},
   "outputs": [
    {
     "name": "stdin",
     "output_type": "stream",
     "text": [
      "Enter the numerator:  56\n",
      "Enter the denominator:  9\n"
     ]
    },
    {
     "name": "stdout",
     "output_type": "stream",
     "text": [
      "Result: 6.222222222222222\n",
      "Division completed\n"
     ]
    }
   ],
   "source": [
    "#Example:\n",
    "\n",
    "try:\n",
    "    num1 = int(input(\"Enter the numerator: \"))\n",
    "    num2 = int(input(\"Enter the denominator: \"))\n",
    "    result = num1 / num2\n",
    "    print(f\"Result: {result}\")\n",
    "except Exception as e:\n",
    "    print(e)\n",
    "finally:\n",
    "    print(\"Division completed\")"
   ]
  },
  {
   "cell_type": "markdown",
   "id": "2fb2be36-eb0f-4511-819d-22797ed5332c",
   "metadata": {},
   "source": [
    "**raise**:\n",
    "\n",
    "The raise statement is used to explicitly raise an exception in Python. It allows you to create and raise custom exceptions or raise built-in exceptions with specific details or conditions."
   ]
  },
  {
   "cell_type": "code",
   "execution_count": 5,
   "id": "2cfa43ed-4fb1-4ab0-9882-017e4bd7ac2c",
   "metadata": {},
   "outputs": [
    {
     "name": "stdout",
     "output_type": "stream",
     "text": [
      "Values must be positive.\n"
     ]
    }
   ],
   "source": [
    "#Example:\n",
    "\n",
    "def rect_area(length, width):\n",
    "    if length <= 0 or width <= 0:\n",
    "        raise ValueError(\"Values must be positive.\")\n",
    "    return length * width\n",
    "\n",
    "try:\n",
    "    area = rect_area(5, -2)\n",
    "except ValueError as e:\n",
    "    print(e)"
   ]
  },
  {
   "cell_type": "code",
   "execution_count": null,
   "id": "6e109eab-6c2d-4892-a9d4-743a4fd7e275",
   "metadata": {},
   "outputs": [],
   "source": []
  },
  {
   "cell_type": "markdown",
   "id": "145893c3-92cb-4200-904a-3ada6c31167c",
   "metadata": {},
   "source": [
    "**Q5. What are Custom Exceptions in python? Why do we need custom Exceptions? Explain with an example.**"
   ]
  },
  {
   "cell_type": "markdown",
   "id": "eebbd582-c37c-458b-9262-29074655d0d6",
   "metadata": {},
   "source": [
    "Custom exceptions in Python are user-defined exceptions that extend the functionality of built-in exceptions. They allow you to create your own exception types to handle specific error in your code."
   ]
  },
  {
   "cell_type": "code",
   "execution_count": 10,
   "id": "b8aec34f-78f2-4732-9db8-fc54e2a83b8d",
   "metadata": {},
   "outputs": [],
   "source": [
    "#Example:\n",
    "\n",
    "class radius(Exception):\n",
    "    def __init__(self,msg):\n",
    "        self.msg = msg"
   ]
  },
  {
   "cell_type": "code",
   "execution_count": 13,
   "id": "14a48462-9f02-4699-833e-0ed700b6bc64",
   "metadata": {},
   "outputs": [],
   "source": [
    "def circle_radius(rad):\n",
    "    if rad <0:\n",
    "        raise radius(\"Radius cannot be less than 0\")\n",
    "    else:\n",
    "        print(\"The given radius is valid\")        "
   ]
  },
  {
   "cell_type": "code",
   "execution_count": 14,
   "id": "044ee25b-983d-4dca-9425-6ab033c33160",
   "metadata": {},
   "outputs": [
    {
     "name": "stdin",
     "output_type": "stream",
     "text": [
      "Enter the value of radius:  9\n"
     ]
    },
    {
     "name": "stdout",
     "output_type": "stream",
     "text": [
      "The given radius is valid\n"
     ]
    }
   ],
   "source": [
    "try:\n",
    "    rad = int(input(\"Enter the value of radius: \"))\n",
    "    circle_radius(rad)\n",
    "except radius as e:\n",
    "    print(e)"
   ]
  },
  {
   "cell_type": "code",
   "execution_count": null,
   "id": "4e090162-4b35-42c6-b885-1f7a2d89843d",
   "metadata": {},
   "outputs": [],
   "source": []
  },
  {
   "cell_type": "markdown",
   "id": "0d5e2698-7ffd-4684-8dd7-cac271151f8a",
   "metadata": {},
   "source": [
    "**Q6. Create a custom exceptions class. Use this class to handle an exception.**"
   ]
  },
  {
   "cell_type": "code",
   "execution_count": 15,
   "id": "d37009c7-d52f-4ab2-9c4f-64e765c95010",
   "metadata": {},
   "outputs": [],
   "source": [
    "class CustomException(Exception):\n",
    "    def __init__(self, message):\n",
    "        self.message = message"
   ]
  },
  {
   "cell_type": "code",
   "execution_count": 16,
   "id": "8158507e-2fe6-4017-a513-a8f26af56ad6",
   "metadata": {},
   "outputs": [],
   "source": [
    "def divide(a, b):\n",
    "    if b == 0:\n",
    "        raise CustomException(\"Cannot divide by zero\")\n",
    "    return a / b"
   ]
  },
  {
   "cell_type": "code",
   "execution_count": 17,
   "id": "50f3d1b2-f3c3-4c53-9e44-da00b11de401",
   "metadata": {},
   "outputs": [
    {
     "name": "stdin",
     "output_type": "stream",
     "text": [
      "Enter the value of numerator:  9\n",
      "Enter the value of denominator:  3\n"
     ]
    },
    {
     "name": "stdout",
     "output_type": "stream",
     "text": [
      "Result of division: 3.0\n"
     ]
    }
   ],
   "source": [
    "try:\n",
    "    num = int(input(\"Enter the value of numerator: \"))\n",
    "    den = int(input(\"Enter the value of denominator: \"))\n",
    "    result = divide(num, den)\n",
    "    print(f\"Result of division: {result}\")\n",
    "except CustomException as e:\n",
    "    print(e)"
   ]
  }
 ],
 "metadata": {
  "kernelspec": {
   "display_name": "Python 3 (ipykernel)",
   "language": "python",
   "name": "python3"
  },
  "language_info": {
   "codemirror_mode": {
    "name": "ipython",
    "version": 3
   },
   "file_extension": ".py",
   "mimetype": "text/x-python",
   "name": "python",
   "nbconvert_exporter": "python",
   "pygments_lexer": "ipython3",
   "version": "3.10.8"
  }
 },
 "nbformat": 4,
 "nbformat_minor": 5
}
